{
 "cells": [
  {
   "cell_type": "markdown",
   "id": "498731c6",
   "metadata": {},
   "source": [
    "# Actividad - Trabajando con Series de Pandas.\n",
    "## Criterios de evaluación.\n",
    "\n",
    "* Se deben utilizar nombres de variables descriptivos y claros (Utilizar la nomeclatura correspondiente para los nombres de variables).\n",
    "* Comentarios claros y concisos que expliquen el propósito de cada sección del código.\n",
    "* Utilizar mensajes de commit **descriptivos**. (Puedes utilizar la extension CONVENTIONAL COMMIT de VS-CODE). \n",
    "* Entrega en tiempo y forma.\n",
    "* Todo el código desarrollado debe ser subido a un repositorio en GitHub (el nombre del repositorio de seguir la siguiente estructura: actividad_tlp3_nombre_apellido).\n",
    "* Para resolver las actividades se debe insertar casillas de codigo entre cada actividad del cuaderno de Jupyter\n",
    "\n",
    "### ¡Importante!\n",
    "**El incumplimiento de los criterios de evaluación restará puntos en la nota final del práctico!**"
   ]
  },
  {
   "cell_type": "markdown",
   "id": "b361a7b6",
   "metadata": {},
   "source": [
    "### **Actividad 1:** \n",
    "\n",
    "Crear Series desde diferentes estructuras.\n",
    "* Crea una Series con los números del 1 al 5\n",
    "* Crea una Series a partir de un diccionario con nombres de países como claves y sus capitales como valores."
   ]
  },
  {
   "cell_type": "code",
   "execution_count": 1,
   "id": "26009294",
   "metadata": {},
   "outputs": [
    {
     "name": "stdout",
     "output_type": "stream",
     "text": [
      "0    1\n",
      "1    2\n",
      "2    3\n",
      "3    4\n",
      "4    5\n",
      "dtype: int64\n"
     ]
    }
   ],
   "source": [
    "\n",
    "# todo:\n",
    "import pandas as pd\n",
    "import random\n",
    "\n",
    "serie_numeros = pd.Series([1, 2, 3, 4, 5])\n",
    "print(serie_numeros)"
   ]
  },
  {
   "cell_type": "code",
   "execution_count": 5,
   "id": "056e2a69",
   "metadata": {},
   "outputs": [
    {
     "name": "stdout",
     "output_type": "stream",
     "text": [
      "Argentina    Buenos Aires\n",
      "Brasil           Brasilia\n",
      "España             Madrid\n",
      "Paraguay         Asunción\n",
      "Canada             Ottawa\n",
      "dtype: object\n"
     ]
    }
   ],
   "source": [
    "paises = {\n",
    "    'Argentina':'Buenos Aires',\n",
    "    'Brasil':'Brasilia',\n",
    "    'España':'Madrid',\n",
    "    'Paraguay':'Asunción',\n",
    "    'Canada':'Ottawa',\n",
    "}\n",
    "serie_paises = pd.Series(paises)\n",
    "print(serie_paises)"
   ]
  },
  {
   "cell_type": "markdown",
   "id": "0c239195",
   "metadata": {},
   "source": [
    "### **Actividad 2:** \n",
    "Acceso y selección de elementos.\n",
    "* Usa una Series con tareas (que haceres cotidianos) de una semana\n",
    "* Accede a diferentes elementos a elección.\n",
    "* Cambia los valores de los dias pares.\n"
   ]
  },
  {
   "cell_type": "code",
   "execution_count": null,
   "id": "3611d25a",
   "metadata": {},
   "outputs": [],
   "source": [
    "\n",
    "# todo:\n",
    "import pandas as pd\n",
    "\n",
    "tareas = pd.Series({\n",
    "    'lunes': 'regar las plantas',\n",
    "    'martes': 'ir al supermercado',\n",
    "    'miércoles': 'hacer ejercicio',\n",
    "    'jueves': 'estudiar python',\n",
    "    'viernes': 'limpiar el baño',\n",
    "    'sábado': 'cocinar algo nuevo',\n",
    "    'domingo': 'ver una película'\n",
    "})\n",
    "\n",
    "print(\"=== tareas originales ===\")\n",
    "print(tareas)\n",
    "\n",
    "print(\"\\n=== tarea del viernes ===\")\n",
    "print(tareas['viernes'])\n",
    "\n",
    "print(\"\\n=== tareas del lunes a miércoles ===\")\n",
    "print(tareas[['lunes', 'martes', 'miércoles']])\n",
    "\n",
    "tareas['martes'] = 'salir a caminar'\n",
    "tareas['jueves'] = 'leer un libro'\n",
    "tareas['sábado'] = 'visitar a la familia'\n",
    "\n",
    "print(\"\\n=== tareas modificadas (días pares) ===\")\n",
    "print(tareas)\n"
   ]
  },
  {
   "cell_type": "markdown",
   "id": "70a24b97",
   "metadata": {},
   "source": [
    "### **Actividad 3:**\n",
    "Operaciones aritméticas. \n",
    "* Realiza las operaciones basicas con 2 series cuales quieran.\n",
    "* Eleva los valores de la primer serie a 3 potencias difetentes."
   ]
  },
  {
   "cell_type": "code",
   "execution_count": null,
   "id": "a9c8ebc7",
   "metadata": {},
   "outputs": [
    {
     "name": "stdout",
     "output_type": "stream",
     "text": [
      "=== operaciones básicas entre dos series ===\n",
      "suma:\n",
      " 0     3\n",
      "1     7\n",
      "2    11\n",
      "3    15\n",
      "dtype: int64\n",
      "\n",
      "resta:\n",
      " 0    1\n",
      "1    1\n",
      "2    1\n",
      "3    1\n",
      "dtype: int64\n",
      "\n",
      "multiplicación:\n",
      " 0     2\n",
      "1    12\n",
      "2    30\n",
      "3    56\n",
      "dtype: int64\n",
      "\n",
      "división:\n",
      " 0    2.000000\n",
      "1    1.333333\n",
      "2    1.200000\n",
      "3    1.142857\n",
      "dtype: float64\n",
      "\n",
      "=== potencias de la primera serie ===\n",
      "potencia 2:\n",
      " 0     4\n",
      "1    16\n",
      "2    36\n",
      "3    64\n",
      "dtype: int64\n",
      "\n",
      "potencia 3:\n",
      " 0      8\n",
      "1     64\n",
      "2    216\n",
      "3    512\n",
      "dtype: int64\n",
      "\n",
      "potencia 4:\n",
      " 0      16\n",
      "1     256\n",
      "2    1296\n",
      "3    4096\n",
      "dtype: int64\n"
     ]
    }
   ],
   "source": [
    "\n",
    "# todo:\n",
    "import pandas as pd\n",
    "\n",
    "# crear dos series numéricas\n",
    "serie1 = pd.Series([2, 4, 6, 8])\n",
    "serie2 = pd.Series([1, 3, 5, 7])\n",
    "\n",
    "suma = serie1 + serie2\n",
    "resta = serie1 - serie2\n",
    "multiplicacion = serie1 * serie2\n",
    "division = serie1 / serie2\n",
    "\n",
    "print(\"=== operaciones básicas entre dos series ===\")\n",
    "print(\"suma:\\n\", suma)\n",
    "print(\"\\nresta:\\n\", resta)\n",
    "print(\"\\nmultiplicación:\\n\", multiplicacion)\n",
    "print(\"\\ndivisión:\\n\", division)\n",
    "\n",
    "# potencias de la primera serie\n",
    "potencia_2 = serie1 ** 2\n",
    "potencia_3 = serie1 ** 3\n",
    "potencia_4 = serie1 ** 4\n",
    "\n",
    "print(\"\\n=== potencias de la primera serie ===\")\n",
    "print(\"potencia 2:\\n\", potencia_2)\n",
    "print(\"\\npotencia 3:\\n\", potencia_3)\n",
    "print(\"\\npotencia 4:\\n\", potencia_4)\n"
   ]
  },
  {
   "cell_type": "markdown",
   "id": "b8dac397",
   "metadata": {},
   "source": [
    "### **Actividad 4:** \n",
    "Filtrado con condiciones.\n",
    "* Crea una Series de edades de 10 personas.\n",
    "* Muestra solo a los mayores de 18.\n",
    "* Reemplaza a los menores por \"Menor de edad\"."
   ]
  },
  {
   "cell_type": "code",
   "execution_count": null,
   "id": "d04fd492",
   "metadata": {},
   "outputs": [],
   "source": [
    "\n",
    "# todo:\n",
    "import pandas as pd\n",
    "\n",
    "edades = pd.Series([15, 20, 17, 22, 30, 18, 14, 19, 25, 16])\n",
    "\n",
    "mayores_18 = edades[edades > 18]\n",
    "\n",
    "edades_modificadas = edades.apply(lambda x: x if x > 18 else \"Menor de edad\")\n",
    "\n",
    "print(\"=== Mayores de 18 ===\")\n",
    "print(mayores_18)\n",
    "\n",
    "print(\"\\n=== Edades modificadas ===\")\n",
    "print(edades_modificadas)\n"
   ]
  },
  {
   "cell_type": "markdown",
   "id": "8889d0f2",
   "metadata": {},
   "source": [
    "### Actividad 5:\n",
    "Estadísticas básicas.\n",
    "\n",
    "* Crea una Series con las notas de 10 estudiantes.\n",
    "* Calcula la media, mediana, desviación estándar y máximo.\n",
    "* Muestra cuántos estudiantes aprobaron si el mínimo para aprobar es 6.\n",
    "* Ordenar las notas de manera ascendente y descendente. "
   ]
  },
  {
   "cell_type": "code",
   "execution_count": null,
   "id": "bc0ec844",
   "metadata": {},
   "outputs": [],
   "source": [
    "\n",
    "# todo:\n",
    "import pandas as pd\n",
    "\n",
    "notas = pd.Series([5.5, 7.2, 8.9, 6.4, 4.8, 9.1, 5.2, 6.8, 7.5, 6.0])\n",
    "\n",
    "media = notas.mean()\n",
    "mediana = notas.median()\n",
    "desviacion_estandar = notas.std()\n",
    "maximo = notas.max()\n",
    "\n",
    "aprobados = notas[notas >= 6].count()\n",
    "\n",
    "orden_ascendente = notas.sort_values(ascending=True)\n",
    "orden_descendente = notas.sort_values(ascending=False)\n",
    "\n",
    "print(\"=== estadísticas básicas ===\")\n",
    "print(f\"media: {media}\")\n",
    "print(f\"mediana: {mediana}\")\n",
    "print(f\"desviación estándar: {desviacion_estandar}\")\n",
    "print(f\"máximo: {maximo}\")\n",
    "\n",
    "print(\"\\n=== estudiantes aprobados ===\")\n",
    "print(f\"cantidad de estudiantes aprobados: {aprobados}\")\n",
    "\n",
    "print(\"\\n=== notas ordenadas ===\")\n",
    "print(\"ascendente:\\n\", orden_ascendente)\n",
    "print(\"\\ndescendente:\\n\", orden_descendente)\n",
    "\n"
   ]
  }
 ],
 "metadata": {
  "kernelspec": {
   "display_name": "Python 3",
   "language": "python",
   "name": "python3"
  },
  "language_info": {
   "codemirror_mode": {
    "name": "ipython",
    "version": 3
   },
   "file_extension": ".py",
   "mimetype": "text/x-python",
   "name": "python",
   "nbconvert_exporter": "python",
   "pygments_lexer": "ipython3",
   "version": "3.10.0"
  }
 },
 "nbformat": 4,
 "nbformat_minor": 5
}
